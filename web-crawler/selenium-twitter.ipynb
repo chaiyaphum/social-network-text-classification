{
 "cells": [
  {
   "cell_type": "code",
   "execution_count": 4,
   "metadata": {
    "collapsed": true
   },
   "outputs": [],
   "source": [
    "from selenium import webdriver\n",
    "from selenium.webdriver.common.keys import Keys\n",
    "import time"
   ]
  },
  {
   "cell_type": "code",
   "execution_count": 5,
   "metadata": {},
   "outputs": [],
   "source": [
    "driver = webdriver.Chrome()"
   ]
  },
  {
   "cell_type": "code",
   "execution_count": 6,
   "metadata": {
    "collapsed": true
   },
   "outputs": [],
   "source": [
    "driver.get(\"https://twitter.com/Thairath_News\")"
   ]
  },
  {
   "cell_type": "code",
   "execution_count": 7,
   "metadata": {
    "collapsed": true
   },
   "outputs": [],
   "source": [
    "for i in range(5):\n",
    "    driver.execute_script(\"window.scrollTo(0, document.body.scrollHeight);\")\n",
    "    time.sleep(1)"
   ]
  },
  {
   "cell_type": "code",
   "execution_count": 8,
   "metadata": {
    "collapsed": true
   },
   "outputs": [],
   "source": [
    "tweets = driver.find_elements_by_class_name('js-tweet-text-container')"
   ]
  },
  {
   "cell_type": "code",
   "execution_count": null,
   "metadata": {
    "collapsed": true
   },
   "outputs": [],
   "source": []
  },
  {
   "cell_type": "code",
   "execution_count": 9,
   "metadata": {},
   "outputs": [
    {
     "name": "stdout",
     "output_type": "stream",
     "text": [
      "#ถ้ำหลวง 00.12 น. 9 ก.ค.61\n",
      "รายงานสดจากพื้นที่\n",
      "\n",
      "บริเวณ อบต.โป่งผา ฝนยังคงตกอย่างต่อเนื่อง\n",
      "\n",
      "#หมูป่าผู้แข็งแกร่ง #13ชีวิตรอดแล้ว #ทีมหมูป่า #พาทีมหมูป่ากลับบ้าน #ไทยรัฐ #ไทยรัฐทีวี\n",
      "#ThaiCaveRescue #ThaiNavySEAL\n",
      "ประมวลภาพ นาที 4 ชีวิตหมูป่าฯ พ้น #ถ้ำหลวง ประเมินอาการ ส่งต่อ รพ. #พาทีมหมูป่ากลับบ้าน #ThaiCaveRescue #ThaiNavySEAL #ไทยรัฐ\n",
      "ภาพขณะเจ้าหน้าที่ปฏิบัติการพาทีมหมูป่าออกจากถ้ำหลวง โดย Chiang Rai Public Relations Office\n",
      "#ถ้ำหลวง #หมูป่าผู้แข็งแกร่ง #13ชีวิตรอดแล้ว #ทีมหมูป่า #พาทีมหมูป่ากลับบ้าน #ไทยรัฐ #ไทยรัฐทีวี\n",
      "ลูกชายรำคาญพ่อแท้ๆ ขี้บ่น! จับล็อกคอแน่น ก่อนสิ้นใจสลดคารพ.\n",
      "ส่ง 2 พ่อลูกกลับจีน เจ็บจากเหตุเรือล่ม สัญญาจะกลับมาเที่ยวไทยอีก #เรือล่ม #Phuket #ไทยรัฐ\n",
      "#ThaiCaveRescue #ThaiNavySEAL\n",
      "#ThaiCaveRescue #ThaiNavySEAL\n",
      "สื่อนอกห่วง 'ฝนตก' กระทบช่วย 9 หมูป่าในถ้ำหลวง\n",
      "โดนัลด์ ทรัมป์ ปธน.สหรัฐฯ ทวีตให้กำลังใจ “จนท.สหรัฐฯ กำลังทำงานร่วมกับรัฐบาลไทยอย่างใกล้ชิด เพื่อช่วยเหลือเด็กๆ ทุกคนออกจากถ้ำได้อย่างปลอดภัย กล้าหาญและมีความสามารถมาก”\n",
      "\n",
      "https://www.thairath.co.th/content/1330358 \n",
      "\n",
      "#ถ้ำหลวง #หมูป่าผู้แข็งแกร่ง #13ชีวิตรอดแล้ว #ทีมหมูป่า #พาทีมหมูป่ากลับบ้าน #ไทยรัฐ\n",
      "ขอแค่ปลอดภัย! ชาวเน็ต รอหมูป่าตัวที่ 5 ออกจากถ้ำ เชื่อ #จ่าแซม หมดห่วง #พาทีมหมูป่ากลับบ้าน #ThaiCaveRescue #ThaiNavySEAL #ไทยรัฐ\n",
      "ฝนตกยังไม่ขาดสาย ที่อบต.โป่งผาต่อเนื่องถ้ำหลวง #ถ้ำหลวง #ไทยรัฐ\n",
      "ให้เด็กสวมหน้ากากเซฟตี้ ทีมดำน้ำกอดไว้ด้านล่าง พาตัวออกมา #พาทีมหมูป่ากลับบ้าน #ThaiCaveRescue #ThaiNavySEAL #ไทยรัฐ\n",
      "เฮ! ’ทีมหมูป่า’ ออกมาแล้ว 4 ‘โดนัลด์ ทรัมป์’ ทวีตชมจนท.กล้าหาญ\n",
      "#ถ้ำหลวง 21.34 น. 8 ก.ค.61\n",
      "\n",
      "ที่ อบต. ฝนตกหนักมาก!\n",
      "\n",
      "#ถ้ำหลวง #หมูป่าผู้แข็งแกร่ง #13ชีวิตรอดแล้ว #ทีมหมูป่า #พาทีมหมูป่ากลับบ้าน #ไทยรัฐ #ไทยรัฐทีวี\n",
      "#ถ้ำหลวง 21.00น. 8 ก.ค.61\n",
      "\n",
      "มีรถเข้าออก ทั้งรถเจ้าหน้าที่ รถ รพ. หน้าถ้ำหลวง เพื่อสลับเปลี่ยนชุดปฏิบัติภารกิจ รวมถึงถังอากาศที่จะลำเลียงเข้าไปใหม่ เพื่อพร้อมทำภารกิจช่วยหมูป่าที่เหลือต่อไป\n",
      "\n",
      "#ถ้ำหลวง #หมูป่าผู้แข็งแกร่ง #13ชีวิตรอดแล้ว #ทีมหมูป่า #พาทีมหมูป่ากลับบ้าน #ไทยรัฐ\n",
      "อุปกรณ์หมดรอติดตั้ง 10 ชม.\n",
      "ขอบคุณสื่อที่ยกพื้นที่ให้ทำงาน ทำได้เร็วกว่าซ้อม 5 เท่า จาก 10 นาทีเหลือ 2 นาที (การลำเลียงขึ้นรถพยาบาล)\n",
      "#ถ้ำหลวง 21.00น. 8 ก.ค.61\n",
      "\n",
      "วันนี้จะเรียกทุกหน่วยงานมาประเมินอีกว่ามีอะไรต้องปรับปรุง ทั้ง ตำรวจ หมอ ทหาร \n",
      "\n",
      "#ถ้ำหลวง #หมูป่าผู้แข็งแกร่ง #13ชีวิตรอดแล้ว #ทีมหมูป่า #พาทีมหมูป่ากลับบ้าน #ไทยรัฐ #ไทยรัฐทีวี\n",
      "#ถ้ำหลวง 21.00น. 8 ก.ค.61\n",
      "\n",
      "ผบ.ศอร. แถลง\n",
      "พาน้องออกมาได้เร็วกว่าที่คาดการณ์ไว้ และสำเร็จลุล่วงไปด้วยดี สามารถพาน้องออกมาได้ 4 คน\n",
      "\n",
      "#ถ้ำหลวง #หมูป่าผู้แข็งแกร่ง #13ชีวิตรอดแล้ว #ทีมหมูป่า #พาทีมหมูป่ากลับบ้าน #ไทยรัฐ #ไทยรัฐทีวี\n"
     ]
    }
   ],
   "source": [
    "for tw in tweets:\n",
    "    print(tw.text)"
   ]
  },
  {
   "cell_type": "code",
   "execution_count": null,
   "metadata": {
    "collapsed": true
   },
   "outputs": [],
   "source": []
  }
 ],
 "metadata": {
  "kernelspec": {
   "display_name": "Python 3",
   "language": "python",
   "name": "python3"
  },
  "language_info": {
   "codemirror_mode": {
    "name": "ipython",
    "version": 3
   },
   "file_extension": ".py",
   "mimetype": "text/x-python",
   "name": "python",
   "nbconvert_exporter": "python",
   "pygments_lexer": "ipython3",
   "version": "3.6.1"
  }
 },
 "nbformat": 4,
 "nbformat_minor": 2
}
