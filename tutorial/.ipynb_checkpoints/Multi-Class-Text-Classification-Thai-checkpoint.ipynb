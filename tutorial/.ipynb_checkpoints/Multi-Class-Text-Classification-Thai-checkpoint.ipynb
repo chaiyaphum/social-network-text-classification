{
 "cells": [
  {
   "cell_type": "code",
   "execution_count": 1,
   "metadata": {},
   "outputs": [
    {
     "name": "stderr",
     "output_type": "stream",
     "text": [
      "Using TensorFlow backend.\n"
     ]
    }
   ],
   "source": [
    "import pandas as pd\n",
    "import io\n",
    "import requests\n",
    "import deepcut"
   ]
  },
  {
   "cell_type": "code",
   "execution_count": 2,
   "metadata": {},
   "outputs": [
    {
     "data": {
      "text/html": [
       "<div>\n",
       "<style>\n",
       "    .dataframe thead tr:only-child th {\n",
       "        text-align: right;\n",
       "    }\n",
       "\n",
       "    .dataframe thead th {\n",
       "        text-align: left;\n",
       "    }\n",
       "\n",
       "    .dataframe tbody tr th {\n",
       "        vertical-align: top;\n",
       "    }\n",
       "</style>\n",
       "<table border=\"1\" class=\"dataframe\">\n",
       "  <thead>\n",
       "    <tr style=\"text-align: right;\">\n",
       "      <th></th>\n",
       "      <th>id</th>\n",
       "      <th>date</th>\n",
       "      <th>category</th>\n",
       "      <th>label</th>\n",
       "      <th>text</th>\n",
       "    </tr>\n",
       "  </thead>\n",
       "  <tbody>\n",
       "    <tr>\n",
       "      <th>0</th>\n",
       "      <td>236308269755499_516631321723191</td>\n",
       "      <td>2/12/2013 15:26</td>\n",
       "      <td>สุขภาพ</td>\n",
       "      <td>1</td>\n",
       "      <td>สวัสดีครับเพื่อนๆ..เมื่อวานนี้ผมได้ไปช่วยครอบค...</td>\n",
       "    </tr>\n",
       "    <tr>\n",
       "      <th>1</th>\n",
       "      <td>236308269755499_516637568389233</td>\n",
       "      <td>2/12/2013 15:52</td>\n",
       "      <td>สุขภาพ</td>\n",
       "      <td>1</td>\n",
       "      <td>นี่คือภาพคุณ นคร ตอนถูกชนเมื่อปีที่แล้ว เมื่อว...</td>\n",
       "    </tr>\n",
       "    <tr>\n",
       "      <th>2</th>\n",
       "      <td>236308269755499_518039984915658</td>\n",
       "      <td>2/15/2013 19:29</td>\n",
       "      <td>ความเป็นอยู่</td>\n",
       "      <td>2</td>\n",
       "      <td>สวัสดีครับเพื่อนๆ..วันนี้ผมมาหาอาจารย์ท่านหนึ่...</td>\n",
       "    </tr>\n",
       "    <tr>\n",
       "      <th>3</th>\n",
       "      <td>236308269755499_519530701433253</td>\n",
       "      <td>2/18/2013 13:46</td>\n",
       "      <td>การเข้าถึงบริการภาครัฐ</td>\n",
       "      <td>3</td>\n",
       "      <td>สวัสดีครับเพื่อนๆ..เมื่อวานนี้ได้เข้าไปช่วยเหล...</td>\n",
       "    </tr>\n",
       "    <tr>\n",
       "      <th>4</th>\n",
       "      <td>236308269755499_520560281330295</td>\n",
       "      <td>2/20/2013 17:55</td>\n",
       "      <td>สุขภาพ</td>\n",
       "      <td>1</td>\n",
       "      <td>สวัสดีครับเพื่อนๆ..เมื่อวานนี้ผมได้ไปหาน้องอุ้...</td>\n",
       "    </tr>\n",
       "  </tbody>\n",
       "</table>\n",
       "</div>"
      ],
      "text/plain": [
       "                                id             date                category  \\\n",
       "0  236308269755499_516631321723191  2/12/2013 15:26                  สุขภาพ   \n",
       "1  236308269755499_516637568389233  2/12/2013 15:52                  สุขภาพ   \n",
       "2  236308269755499_518039984915658  2/15/2013 19:29            ความเป็นอยู่   \n",
       "3  236308269755499_519530701433253  2/18/2013 13:46  การเข้าถึงบริการภาครัฐ   \n",
       "4  236308269755499_520560281330295  2/20/2013 17:55                  สุขภาพ   \n",
       "\n",
       "   label                                               text  \n",
       "0      1  สวัสดีครับเพื่อนๆ..เมื่อวานนี้ผมได้ไปช่วยครอบค...  \n",
       "1      1  นี่คือภาพคุณ นคร ตอนถูกชนเมื่อปีที่แล้ว เมื่อว...  \n",
       "2      2  สวัสดีครับเพื่อนๆ..วันนี้ผมมาหาอาจารย์ท่านหนึ่...  \n",
       "3      3  สวัสดีครับเพื่อนๆ..เมื่อวานนี้ได้เข้าไปช่วยเหล...  \n",
       "4      1  สวัสดีครับเพื่อนๆ..เมื่อวานนี้ผมได้ไปหาน้องอุ้...  "
      ]
     },
     "execution_count": 2,
     "metadata": {},
     "output_type": "execute_result"
    }
   ],
   "source": [
    "df = pd.read_csv('facebook_20180805_test.csv')\n",
    "df.head()"
   ]
  },
  {
   "cell_type": "code",
   "execution_count": 3,
   "metadata": {},
   "outputs": [
    {
     "data": {
      "text/html": [
       "<div>\n",
       "<style>\n",
       "    .dataframe thead tr:only-child th {\n",
       "        text-align: right;\n",
       "    }\n",
       "\n",
       "    .dataframe thead th {\n",
       "        text-align: left;\n",
       "    }\n",
       "\n",
       "    .dataframe tbody tr th {\n",
       "        vertical-align: top;\n",
       "    }\n",
       "</style>\n",
       "<table border=\"1\" class=\"dataframe\">\n",
       "  <thead>\n",
       "    <tr style=\"text-align: right;\">\n",
       "      <th></th>\n",
       "      <th>category</th>\n",
       "      <th>label</th>\n",
       "      <th>text</th>\n",
       "      <th>category_id</th>\n",
       "    </tr>\n",
       "  </thead>\n",
       "  <tbody>\n",
       "    <tr>\n",
       "      <th>0</th>\n",
       "      <td>สุขภาพ</td>\n",
       "      <td>1</td>\n",
       "      <td>สวัสดีครับเพื่อนๆ..เมื่อวานนี้ผมได้ไปช่วยครอบค...</td>\n",
       "      <td>สุขภาพ</td>\n",
       "    </tr>\n",
       "    <tr>\n",
       "      <th>1</th>\n",
       "      <td>สุขภาพ</td>\n",
       "      <td>1</td>\n",
       "      <td>นี่คือภาพคุณ นคร ตอนถูกชนเมื่อปีที่แล้ว เมื่อว...</td>\n",
       "      <td>สุขภาพ</td>\n",
       "    </tr>\n",
       "    <tr>\n",
       "      <th>2</th>\n",
       "      <td>ความเป็นอยู่</td>\n",
       "      <td>2</td>\n",
       "      <td>สวัสดีครับเพื่อนๆ..วันนี้ผมมาหาอาจารย์ท่านหนึ่...</td>\n",
       "      <td>ความเป็นอยู่</td>\n",
       "    </tr>\n",
       "    <tr>\n",
       "      <th>3</th>\n",
       "      <td>การเข้าถึงบริการภาครัฐ</td>\n",
       "      <td>3</td>\n",
       "      <td>สวัสดีครับเพื่อนๆ..เมื่อวานนี้ได้เข้าไปช่วยเหล...</td>\n",
       "      <td>การเข้าถึงบริการภาครัฐ</td>\n",
       "    </tr>\n",
       "    <tr>\n",
       "      <th>4</th>\n",
       "      <td>สุขภาพ</td>\n",
       "      <td>1</td>\n",
       "      <td>สวัสดีครับเพื่อนๆ..เมื่อวานนี้ผมได้ไปหาน้องอุ้...</td>\n",
       "      <td>สุขภาพ</td>\n",
       "    </tr>\n",
       "  </tbody>\n",
       "</table>\n",
       "</div>"
      ],
      "text/plain": [
       "                 category  label  \\\n",
       "0                  สุขภาพ      1   \n",
       "1                  สุขภาพ      1   \n",
       "2            ความเป็นอยู่      2   \n",
       "3  การเข้าถึงบริการภาครัฐ      3   \n",
       "4                  สุขภาพ      1   \n",
       "\n",
       "                                                text             category_id  \n",
       "0  สวัสดีครับเพื่อนๆ..เมื่อวานนี้ผมได้ไปช่วยครอบค...                  สุขภาพ  \n",
       "1  นี่คือภาพคุณ นคร ตอนถูกชนเมื่อปีที่แล้ว เมื่อว...                  สุขภาพ  \n",
       "2  สวัสดีครับเพื่อนๆ..วันนี้ผมมาหาอาจารย์ท่านหนึ่...            ความเป็นอยู่  \n",
       "3  สวัสดีครับเพื่อนๆ..เมื่อวานนี้ได้เข้าไปช่วยเหล...  การเข้าถึงบริการภาครัฐ  \n",
       "4  สวัสดีครับเพื่อนๆ..เมื่อวานนี้ผมได้ไปหาน้องอุ้...                  สุขภาพ  "
      ]
     },
     "execution_count": 3,
     "metadata": {},
     "output_type": "execute_result"
    }
   ],
   "source": [
    "from io import StringIO\n",
    "\n",
    "col = ['category', 'label', 'text']\n",
    "df = df[col]\n",
    "df = df[pd.notnull(df['text'])]\n",
    "df['category_id'] = df['category']\n",
    "\n",
    "category_id_df = df[['Product', 'category_id']].drop_duplicates().sort_values('category_id')\n",
    "category_to_id = dict(category_id_df.values)\n",
    "id_to_category = dict(category_id_df[['category_id', 'Product']].values)\n",
    "\n",
    "df.head()"
   ]
  },
  {
   "cell_type": "code",
   "execution_count": 9,
   "metadata": {},
   "outputs": [
    {
     "data": {
      "text/html": [
       "<div>\n",
       "<style>\n",
       "    .dataframe thead tr:only-child th {\n",
       "        text-align: right;\n",
       "    }\n",
       "\n",
       "    .dataframe thead th {\n",
       "        text-align: left;\n",
       "    }\n",
       "\n",
       "    .dataframe tbody tr th {\n",
       "        vertical-align: top;\n",
       "    }\n",
       "</style>\n",
       "<table border=\"1\" class=\"dataframe\">\n",
       "  <thead>\n",
       "    <tr style=\"text-align: right;\">\n",
       "      <th></th>\n",
       "      <th>category</th>\n",
       "      <th>label</th>\n",
       "      <th>text</th>\n",
       "      <th>category_id</th>\n",
       "    </tr>\n",
       "  </thead>\n",
       "  <tbody>\n",
       "    <tr>\n",
       "      <th>0</th>\n",
       "      <td>สุขภาพ</td>\n",
       "      <td>1</td>\n",
       "      <td>สวัสดี ครับ เพื่อน ๆ .. เมื่อ วาน นี้ ผม ได้ ไ...</td>\n",
       "      <td>สุขภาพ</td>\n",
       "    </tr>\n",
       "    <tr>\n",
       "      <th>1</th>\n",
       "      <td>สุขภาพ</td>\n",
       "      <td>1</td>\n",
       "      <td>นี่ คือ ภาพ คุณ   นคร   ตอน ถูก ชน เมื่อ ปี ที...</td>\n",
       "      <td>สุขภาพ</td>\n",
       "    </tr>\n",
       "    <tr>\n",
       "      <th>2</th>\n",
       "      <td>ความเป็นอยู่</td>\n",
       "      <td>2</td>\n",
       "      <td>สวัสดี ครับ เพื่อน ๆ.. วัน นี้ ผม มา หา อาจารย...</td>\n",
       "      <td>ความเป็นอยู่</td>\n",
       "    </tr>\n",
       "    <tr>\n",
       "      <th>3</th>\n",
       "      <td>การเข้าถึงบริการภาครัฐ</td>\n",
       "      <td>3</td>\n",
       "      <td>สวัสดี ครับ เพื่อน ๆ .. เมื่อ วาน นี้ ได้ เข้า...</td>\n",
       "      <td>การเข้าถึงบริการภาครัฐ</td>\n",
       "    </tr>\n",
       "    <tr>\n",
       "      <th>4</th>\n",
       "      <td>สุขภาพ</td>\n",
       "      <td>1</td>\n",
       "      <td>สวัสดี ครับ เพื่อน ๆ .. เมื่อ วาน นี้ ผม ได้ ไ...</td>\n",
       "      <td>สุขภาพ</td>\n",
       "    </tr>\n",
       "  </tbody>\n",
       "</table>\n",
       "</div>"
      ],
      "text/plain": [
       "                 category  label  \\\n",
       "0                  สุขภาพ      1   \n",
       "1                  สุขภาพ      1   \n",
       "2            ความเป็นอยู่      2   \n",
       "3  การเข้าถึงบริการภาครัฐ      3   \n",
       "4                  สุขภาพ      1   \n",
       "\n",
       "                                                text             category_id  \n",
       "0  สวัสดี ครับ เพื่อน ๆ .. เมื่อ วาน นี้ ผม ได้ ไ...                  สุขภาพ  \n",
       "1  นี่ คือ ภาพ คุณ   นคร   ตอน ถูก ชน เมื่อ ปี ที...                  สุขภาพ  \n",
       "2  สวัสดี ครับ เพื่อน ๆ.. วัน นี้ ผม มา หา อาจารย...            ความเป็นอยู่  \n",
       "3  สวัสดี ครับ เพื่อน ๆ .. เมื่อ วาน นี้ ได้ เข้า...  การเข้าถึงบริการภาครัฐ  \n",
       "4  สวัสดี ครับ เพื่อน ๆ .. เมื่อ วาน นี้ ผม ได้ ไ...                  สุขภาพ  "
      ]
     },
     "execution_count": 9,
     "metadata": {},
     "output_type": "execute_result"
    }
   ],
   "source": [
    "df['text'] = [\" \".join(deepcut.tokenize(l)) for l in df.text]\n",
    "df.head()"
   ]
  },
  {
   "cell_type": "code",
   "execution_count": 10,
   "metadata": {},
   "outputs": [
    {
     "data": {
      "image/png": "[encoded data removed]",
      "text/plain": [
       "<matplotlib.figure.Figure at 0x7aa06d34a8>"
      ]
     },
     "metadata": {},
     "output_type": "display_data"
    }
   ],
   "source": [
    "# 1: สุขภาพ\n",
    "# 2: ความเป็นอยู่\n",
    "# 3: การเข้าถึงบริการภาครัฐ\n",
    "# 4: การศึกษา\n",
    "# 5: เศรษฐกิจ\n",
    "\n",
    "import matplotlib.pyplot as plt\n",
    "import matplotlib as mpl\n",
    "fp = mpl.font_manager.FontProperties(family='arial',size=20)\n",
    "\n",
    "fig = plt.figure(figsize=(8,6))\n",
    "df.groupby('label').text.count().plot.bar(ylim=0)\n",
    "plt.show()"
   ]
  },
  {
   "cell_type": "code",
   "execution_count": null,
   "metadata": {},
   "outputs": [],
   "source": []
  },
  {
   "cell_type": "code",
   "execution_count": 11,
   "metadata": {},
   "outputs": [
    {
     "data": {
      "text/plain": [
       "(17, 149)"
      ]
     },
     "execution_count": 11,
     "metadata": {},
     "output_type": "execute_result"
    }
   ],
   "source": [
    "from sklearn.feature_extraction.text import TfidfVectorizer\n",
    "\n",
    "tfidf = TfidfVectorizer(sublinear_tf=True, min_df=5, norm='l2', encoding='latin-1', ngram_range=(1, 2))\n",
    "#features = tfidf.fit_transform(df.Consumer_complaint_narrative).toarray()\n",
    "\n",
    "features = tfidf.fit_transform(df.text).toarray()\n",
    "\n",
    "labels = df.category_id\n",
    "\n",
    "features.shape"
   ]
  },
  {
   "cell_type": "code",
   "execution_count": 12,
   "metadata": {},
   "outputs": [
    {
     "ename": "NameError",
     "evalue": "name 'category_to_id' is not defined",
     "output_type": "error",
     "traceback": [
      "\u001b[0;31m---------------------------------------------------------------------------\u001b[0m",
      "\u001b[0;31mNameError\u001b[0m                                 Traceback (most recent call last)",
      "\u001b[0;32m<ipython-input-12-988634e210b6>\u001b[0m in \u001b[0;36m<module>\u001b[0;34m()\u001b[0m\n\u001b[1;32m      3\u001b[0m \u001b[1;32mimport\u001b[0m \u001b[0mnumpy\u001b[0m \u001b[1;32mas\u001b[0m \u001b[0mnp\u001b[0m\u001b[1;33m\u001b[0m\u001b[0m\n\u001b[1;32m      4\u001b[0m \u001b[0mN\u001b[0m \u001b[1;33m=\u001b[0m \u001b[1;36m2\u001b[0m\u001b[1;33m\u001b[0m\u001b[0m\n\u001b[0;32m----> 5\u001b[0;31m \u001b[1;32mfor\u001b[0m \u001b[0mProduct\u001b[0m\u001b[1;33m,\u001b[0m \u001b[0mcategory_id\u001b[0m \u001b[1;32min\u001b[0m \u001b[0msorted\u001b[0m\u001b[1;33m(\u001b[0m\u001b[0mcategory_to_id\u001b[0m\u001b[1;33m.\u001b[0m\u001b[0mitems\u001b[0m\u001b[1;33m(\u001b[0m\u001b[1;33m)\u001b[0m\u001b[1;33m)\u001b[0m\u001b[1;33m:\u001b[0m\u001b[1;33m\u001b[0m\u001b[0m\n\u001b[0m\u001b[1;32m      6\u001b[0m   \u001b[0mfeatures_chi2\u001b[0m \u001b[1;33m=\u001b[0m \u001b[0mchi2\u001b[0m\u001b[1;33m(\u001b[0m\u001b[0mfeatures\u001b[0m\u001b[1;33m,\u001b[0m \u001b[0mlabels\u001b[0m \u001b[1;33m==\u001b[0m \u001b[0mcategory_id\u001b[0m\u001b[1;33m)\u001b[0m\u001b[1;33m\u001b[0m\u001b[0m\n\u001b[1;32m      7\u001b[0m   \u001b[0mindices\u001b[0m \u001b[1;33m=\u001b[0m \u001b[0mnp\u001b[0m\u001b[1;33m.\u001b[0m\u001b[0margsort\u001b[0m\u001b[1;33m(\u001b[0m\u001b[0mfeatures_chi2\u001b[0m\u001b[1;33m[\u001b[0m\u001b[1;36m0\u001b[0m\u001b[1;33m]\u001b[0m\u001b[1;33m)\u001b[0m\u001b[1;33m\u001b[0m\u001b[0m\n",
      "\u001b[0;31mNameError\u001b[0m: name 'category_to_id' is not defined"
     ]
    }
   ],
   "source": [
    "from sklearn.feature_selection import chi2\n",
    "\n",
    "import numpy as np\n",
    "N = 2\n",
    "for Product, category_id in sorted(category_to_id.items()):\n",
    "  features_chi2 = chi2(features, labels == category_id)\n",
    "  indices = np.argsort(features_chi2[0])\n",
    "  feature_names = np.array(tfidf.get_feature_names())[indices]\n",
    "  unigrams = [v for v in feature_names if len(v.split(' ')) == 1]\n",
    "  bigrams = [v for v in feature_names if len(v.split(' ')) == 2]\n",
    "  print(\"# '{}':\".format(Product))\n",
    "  print(\"  . Most correlated unigrams:\\n. {}\".format('\\n. '.join(unigrams[-N:])))\n",
    "  print(\"  . Most correlated bigrams:\\n. {}\".format('\\n. '.join(bigrams[-N:])))"
   ]
  },
  {
   "cell_type": "code",
   "execution_count": null,
   "metadata": {
    "collapsed": true
   },
   "outputs": [],
   "source": []
  },
  {
   "cell_type": "code",
   "execution_count": null,
   "metadata": {
    "collapsed": true
   },
   "outputs": [],
   "source": [
    "from sklearn.model_selection import train_test_split\n",
    "from sklearn.feature_extraction.text import CountVectorizer\n",
    "from sklearn.feature_extraction.text import TfidfTransformer\n",
    "from sklearn.naive_bayes import MultinomialNB\n",
    "\n",
    "X_train, X_test, y_train, y_test = train_test_split(df['Consumer_complaint_narrative'], df['Product'], random_state = 0)\n",
    "count_vect = CountVectorizer()\n",
    "X_train_counts = count_vect.fit_transform(X_train)\n",
    "tfidf_transformer = TfidfTransformer()\n",
    "X_train_tfidf = tfidf_transformer.fit_transform(X_train_counts)\n",
    "clf = MultinomialNB().fit(X_train_tfidf, y_train)"
   ]
  },
  {
   "cell_type": "code",
   "execution_count": null,
   "metadata": {},
   "outputs": [],
   "source": [
    "print(clf.predict(count_vect.transform([\"This company refuses to provide me verification and validation of debt per my right under the FDCPA. I do not believe this debt is mine.\"])))"
   ]
  },
  {
   "cell_type": "code",
   "execution_count": null,
   "metadata": {},
   "outputs": [],
   "source": [
    "df[df['Consumer_complaint_narrative'] == \"This company refuses to provide me verification and validation of debt per my right under the FDCPA. I do not believe this debt is mine.\"]"
   ]
  },
  {
   "cell_type": "code",
   "execution_count": null,
   "metadata": {},
   "outputs": [],
   "source": [
    "print(clf.predict(count_vect.transform([\"I am disputing the inaccurate information the Chex-Systems has on my credit report. I initially submitted a police report on XXXX/XXXX/16 and Chex Systems only deleted the items that I mentioned in the letter and not all the items that were actually listed on the police report. In other words they wanted me to say word for word to them what items were fraudulent. The total disregard of the police report and what accounts that it states that are fraudulent. If they just had paid a little closer attention to the police report I would not been in this position now and they would n't have to research once again. I would like the reported information to be removed : XXXX XXXX XXXX\"])))"
   ]
  },
  {
   "cell_type": "code",
   "execution_count": null,
   "metadata": {
    "collapsed": true
   },
   "outputs": [],
   "source": []
  },
  {
   "cell_type": "code",
   "execution_count": null,
   "metadata": {},
   "outputs": [],
   "source": [
    "from sklearn.linear_model import LogisticRegression\n",
    "from sklearn.ensemble import RandomForestClassifier\n",
    "from sklearn.svm import LinearSVC\n",
    "from sklearn.model_selection import cross_val_score\n",
    "\n",
    "models = [\n",
    "    RandomForestClassifier(n_estimators=200, max_depth=3, random_state=0),\n",
    "    LinearSVC(),\n",
    "    MultinomialNB(),\n",
    "    LogisticRegression(random_state=0),\n",
    "]\n",
    "CV = 5\n",
    "cv_df = pd.DataFrame(index=range(CV * len(models)))\n",
    "entries = []\n",
    "for model in models:\n",
    "  model_name = model.__class__.__name__\n",
    "  accuracies = cross_val_score(model, features, labels, scoring='accuracy', cv=CV)\n",
    "  for fold_idx, accuracy in enumerate(accuracies):\n",
    "    entries.append((model_name, fold_idx, accuracy))\n",
    "cv_df = pd.DataFrame(entries, columns=['model_name', 'fold_idx', 'accuracy'])\n",
    "\n",
    "import seaborn as sns\n",
    "sns.boxplot(x='model_name', y='accuracy', data=cv_df)\n",
    "sns.stripplot(x='model_name', y='accuracy', data=cv_df, \n",
    "              size=8, jitter=True, edgecolor=\"gray\", linewidth=2)\n",
    "plt.show()"
   ]
  },
  {
   "cell_type": "code",
   "execution_count": null,
   "metadata": {},
   "outputs": [],
   "source": [
    "cv_df.groupby('model_name').accuracy.mean()"
   ]
  },
  {
   "cell_type": "code",
   "execution_count": null,
   "metadata": {},
   "outputs": [],
   "source": [
    "model = LinearSVC()\n",
    "X_train, X_test, y_train, y_test, indices_train, indices_test = train_test_split(features, labels, df.index, test_size=0.33, random_state=0)\n",
    "model.fit(X_train, y_train)\n",
    "y_pred = model.predict(X_test)\n",
    "from sklearn.metrics import confusion_matrix\n",
    "conf_mat = confusion_matrix(y_test, y_pred)\n",
    "fig, ax = plt.subplots(figsize=(10,10))\n",
    "sns.heatmap(conf_mat, annot=True, fmt='d',\n",
    "            xticklabels=category_id_df.Product.values, yticklabels=category_id_df.Product.values)\n",
    "plt.ylabel('Actual')\n",
    "plt.xlabel('Predicted')\n",
    "plt.show()"
   ]
  },
  {
   "cell_type": "code",
   "execution_count": null,
   "metadata": {},
   "outputs": [],
   "source": [
    "from IPython.display import display\n",
    "for predicted in category_id_df.category_id:\n",
    "  for actual in category_id_df.category_id:\n",
    "    if predicted != actual and conf_mat[actual, predicted] >= 10:\n",
    "      print(\"'{}' predicted as '{}' : {} examples.\".format(id_to_category[actual], id_to_category[predicted], conf_mat[actual, predicted]))\n",
    "      display(df.loc[indices_test[(y_test == actual) & (y_pred == predicted)]][['Product', 'Consumer_complaint_narrative']])\n",
    "      print('')"
   ]
  },
  {
   "cell_type": "code",
   "execution_count": null,
   "metadata": {},
   "outputs": [],
   "source": [
    "model.fit(features, labels)\n",
    "N = 2\n",
    "for Product, category_id in sorted(category_to_id.items()):\n",
    "  indices = np.argsort(model.coef_[category_id])\n",
    "  feature_names = np.array(tfidf.get_feature_names())[indices]\n",
    "  unigrams = [v for v in reversed(feature_names) if len(v.split(' ')) == 1][:N]\n",
    "  bigrams = [v for v in reversed(feature_names) if len(v.split(' ')) == 2][:N]\n",
    "  print(\"# '{}':\".format(Product))\n",
    "  print(\"  . Top unigrams:\\n       . {}\".format('\\n       . '.join(unigrams)))\n",
    "  print(\"  . Top bigrams:\\n       . {}\".format('\\n       . '.join(bigrams)))"
   ]
  },
  {
   "cell_type": "code",
   "execution_count": null,
   "metadata": {},
   "outputs": [],
   "source": [
    "from sklearn import metrics\n",
    "print(metrics.classification_report(y_test, y_pred, target_names=df['Product'].unique()))"
   ]
  },
  {
   "cell_type": "code",
   "execution_count": null,
   "metadata": {
    "collapsed": true
   },
   "outputs": [],
   "source": []
  }
 ],
 "metadata": {
  "kernelspec": {
   "display_name": "Python 3",
   "language": "python",
   "name": "python3"
  },
  "language_info": {
   "codemirror_mode": {
    "name": "ipython",
    "version": 3
   },
   "file_extension": ".py",
   "mimetype": "text/x-python",
   "name": "python",
   "nbconvert_exporter": "python",
   "pygments_lexer": "ipython3",
   "version": "3.5.3"
  }
 },
 "nbformat": 4,
 "nbformat_minor": 2
}
